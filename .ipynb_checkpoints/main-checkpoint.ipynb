{
 "cells": [
  {
   "cell_type": "code",
   "execution_count": 160,
   "id": "ac86c52a-9a1f-439b-a792-4bb092bfcdaa",
   "metadata": {},
   "outputs": [
    {
     "data": {
      "text/html": [
       "<span style=\"font-size: 140px;\">&#x1F000;&#x1F000;</span>"
      ],
      "text/plain": [
       "<IPython.core.display.HTML object>"
      ]
     },
     "metadata": {},
     "output_type": "display_data"
    }
   ],
   "source": [
    "from IPython.display import HTML\n",
    "from IPython.display import clear_output\n",
    "content='&#x1F000;'\n",
    "display (HTML(f'<span style=\"font-size: 140px;\">{content}{content}</span>'))"
   ]
  },
  {
   "cell_type": "code",
   "execution_count": 48,
   "id": "54471b5c-0395-4492-a41b-d6e9f0452329",
   "metadata": {},
   "outputs": [
    {
     "data": {
      "text/html": [
       "<span style=\"font-size: 40px;\">&#x1F000;&#x1F001;&#x1F002;&#x1F003;&#x1F004;&#x1F005;&#x1F006;&#x1F007;&#x1F008;&#x1F009;&#x1F00a;&#x1F00b;&#x1F00c;&#x1F00d;&#x1F00e;&#x1F00f;&#x1F010;&#x1F011;&#x1F012;&#x1F013;&#x1F014;&#x1F015;&#x1F016;&#x1F017;&#x1F018;&#x1F019;&#x1F01a;&#x1F01b;&#x1F01c;&#x1F01d;&#x1F01e;&#x1F01f;&#x1F020;&#x1F021;&#x1F022;&#x1F023;&#x1F024;&#x1F025;&#x1F026;&#x1F027;&#x1F028;&#x1F029;&#x1F02a;</span>"
      ],
      "text/plain": [
       "<IPython.core.display.HTML object>"
      ]
     },
     "metadata": {},
     "output_type": "display_data"
    }
   ],
   "source": [
    "tile=''\n",
    "for i in range(43):\n",
    "    tile+=f\"&#x1F0{i:0{2}x};\"\n",
    "display (HTML(f'<span style=\"font-size: 40px;\">{tile}</span>'))\n",
    "    "
   ]
  },
  {
   "cell_type": "code",
   "execution_count": 156,
   "id": "24a80d14-8866-40d4-ae49-bf534d323243",
   "metadata": {},
   "outputs": [],
   "source": [
    "DRAGON={'name':'Dragon','index':(0,1,2),'symbols':['&#x1F004','&#x1F005','&#x1F006'],'number':4}\n",
    "WIND={'name':'Wind','index':(0,1,2,3),'symbols':['&#x1F000','&#x1F001','&#x1F002','&#x1F003'],'number':4}\n",
    "FLOWER={'name':'Season','index':(0,1,2,3),'symbols':['&#x1F022','&#x1F023','&#x1F024','&#x1F025'],'number':1}\n",
    "SEASON={'name':'Flower','index':(0,1,2,3),'symbols':['&#x1F026','&#x1F027','&#x1F028','&#x1F029'],'number':1}\n",
    "BAMBOO={'name':'Bamboo','index':(0,1,2,3,4,5,6,7,8),'symbols':['&#x1F010','&#x1F011','&#x1F012','&#x1F013','&#x1F014','&#x1F015','&#x1F016','&#x1F017','&#x1F018'],'number':4}\n",
    "CIRCLES={'name':'Circle','index':(0,1,2,3,4,5,6,7,8),'symbols':['&#x1F019','&#x1F01A','&#x1F01B','&#x1F01C','&#x1F01D','&#x1F01E','&#x1F01F','&#x1F020','&#x1F021'],'number':4}\n",
    "CHARACTERS={'name':'Character','index':(0,1,2,3,4,5,6,7,8),'symbols':['&#x1F007','&#x1F008','&#x1F009','&#x1F00A','&#x1F00B','&#x1F00C','&#x1F00D','&#x1F00E','&#x1F00F'],'number':4}\n",
    "TYPES=('Season','Flower','Dragon','Wind','Character','Bamboo','Circle')\n",
    "\n",
    "import random \n",
    "\n",
    "class Tile():\n",
    "    def __init__(self,type,num,symbol=''):\n",
    "        self.num=num\n",
    "        self.type=type\n",
    "        self.symbol=symbol\n",
    "\n",
    "class tileSet():\n",
    "    def __init__(self):\n",
    "        self.tiles=[]\n",
    "        self.treasures=[]\n",
    "    def discard(self,index):\n",
    "        r=self.tiles[index]\n",
    "        del(self.tiles[index])\n",
    "        return r\n",
    "    def pick(self,tile):\n",
    "        self.tiles.append(tile)\n",
    "        self.check()\n",
    "    def full(self):\n",
    "        return len(self.tiles)==13\n",
    "    def check(self):\n",
    "        # separate treasures from playing tiles\n",
    "        self.treasures+=[x for x in self.tiles if x.type in TYPES[:2]]\n",
    "        for x in self.treasures:\n",
    "            if self.tiles.count(x):\n",
    "                self.tiles.remove(x)\n",
    "        # sort tiles\n",
    "        sortedTiles=[]\n",
    "        for t in TYPES:\n",
    "            y=[x for x in self.tiles if x.type==t]\n",
    "            y.sort(key= lambda x: x.num)\n",
    "            sortedTiles+=y\n",
    "        self.tiles=sortedTiles\n",
    "    def show(self):\n",
    "        tileDisplay=''\n",
    "        for x in self.treasures:\n",
    "            tileDisplay+=x.symbol+' '\n",
    "        display (HTML(f'<span style=\"font-size: 40px;\">{tileDisplay}</span>'))\n",
    "        tileDisplay=''\n",
    "        for x in self.tiles:\n",
    "            tileDisplay+=x.symbol+' '\n",
    "        display (HTML(f'<span style=\"font-size: 40px;\">{tileDisplay}</span>'))\n",
    "        \n",
    "class heap():\n",
    "    def __init__(self):\n",
    "        lis=[]\n",
    "        self.dis=[]\n",
    "        for t in (DRAGON,WIND,CHARACTERS,BAMBOO,CIRCLES,SEASON,FLOWER): #,WIND,SEASON,FLOWER,CIRCLES,BAMBOO,CHARACTERS): \n",
    "            for i in range(t['number']):\n",
    "                for k in t['index']:\n",
    "                    a=Tile(t['name'],k,t[\"symbols\"][k])\n",
    "                    lis.append(a)\n",
    "        random.shuffle(lis)\n",
    "        self.lis=lis\n",
    "    def extract(self):\n",
    "        x=self.lis[0]\n",
    "        del self.lis[0]\n",
    "        return x\n",
    "    def discard(self,tile):\n",
    "        self.dis.append(tile)\n",
    "    def remaining(self):\n",
    "        return len(self.lis)\n",
    "    def showDiscarded(self):\n",
    "        tileDisplay=''\n",
    "        for x in self.dis:\n",
    "            tileDisplay+=x.symbol+' '\n",
    "        display (HTML(f'<span style=\"font-size: 40px;\">{tileDisplay}</span>'))\n",
    "        \n",
    "    \n"
   ]
  },
  {
   "cell_type": "code",
   "execution_count": 157,
   "id": "37f4b3db-4101-4910-a971-14269d97bcb6",
   "metadata": {},
   "outputs": [
    {
     "data": {
      "text/html": [
       "<span style=\"font-size: 40px;\">&#x1F023 </span>"
      ],
      "text/plain": [
       "<IPython.core.display.HTML object>"
      ]
     },
     "metadata": {},
     "output_type": "display_data"
    },
    {
     "data": {
      "text/html": [
       "<span style=\"font-size: 40px;\">&#x1F005 &#x1F005 &#x1F005 &#x1F002 &#x1F00B &#x1F015 &#x1F016 &#x1F018 &#x1F01B &#x1F01C &#x1F01C &#x1F01E &#x1F021 </span>"
      ],
      "text/plain": [
       "<IPython.core.display.HTML object>"
      ]
     },
     "metadata": {},
     "output_type": "display_data"
    },
    {
     "name": "stdout",
     "output_type": "stream",
     "text": [
      "130\n"
     ]
    }
   ],
   "source": [
    "b=heap()\n",
    "tiles=[]\n",
    "player1=tileSet()\n",
    "\n",
    "for i in range(14):\n",
    "    player1.pick(b.extract())\n",
    "    #print(len(player1.tiles))\n",
    "player1.show()\n",
    "\n",
    "\n",
    "print (b.remaining())"
   ]
  },
  {
   "cell_type": "code",
   "execution_count": 158,
   "id": "d26353df-ebb9-47f8-b6d9-91097724da9a",
   "metadata": {},
   "outputs": [],
   "source": [
    "\n",
    "b.discard(player1.discard(4))"
   ]
  },
  {
   "cell_type": "code",
   "execution_count": 159,
   "id": "c961b364-487e-4837-bc08-5ecca785a10a",
   "metadata": {},
   "outputs": [
    {
     "data": {
      "text/html": [
       "<span style=\"font-size: 40px;\">&#x1F00B </span>"
      ],
      "text/plain": [
       "<IPython.core.display.HTML object>"
      ]
     },
     "metadata": {},
     "output_type": "display_data"
    }
   ],
   "source": [
    "b.showDiscarded()"
   ]
  },
  {
   "cell_type": "code",
   "execution_count": 162,
   "id": "a9b65aee-e3f2-4152-b742-10a989272f98",
   "metadata": {},
   "outputs": [
    {
     "name": "stdout",
     "output_type": "stream",
     "text": [
      "discarded:\n"
     ]
    },
    {
     "data": {
      "text/html": [
       "<span style=\"font-size: 40px;\">&#x1F00B &#x1F01B &#x1F002 &#x1F00E &#x1F012 &#x1F009 &#x1F011 &#x1F015 &#x1F018 &#x1F014 &#x1F012 &#x1F004 </span>"
      ],
      "text/plain": [
       "<IPython.core.display.HTML object>"
      ]
     },
     "metadata": {},
     "output_type": "display_data"
    },
    {
     "name": "stdout",
     "output_type": "stream",
     "text": [
      "your hand:\n"
     ]
    },
    {
     "data": {
      "text/html": [
       "<span style=\"font-size: 40px;\">&#x1F023 </span>"
      ],
      "text/plain": [
       "<IPython.core.display.HTML object>"
      ]
     },
     "metadata": {},
     "output_type": "display_data"
    },
    {
     "data": {
      "text/html": [
       "<span style=\"font-size: 40px;\">&#x1F005 &#x1F005 &#x1F005 &#x1F006 &#x1F006 &#x1F016 &#x1F016 &#x1F01C &#x1F01C &#x1F01E &#x1F01E &#x1F021 </span>"
      ],
      "text/plain": [
       "<IPython.core.display.HTML object>"
      ]
     },
     "metadata": {},
     "output_type": "display_data"
    },
    {
     "name": "stdin",
     "output_type": "stream",
     "text": [
      "select tile to discard:  13\n"
     ]
    },
    {
     "ename": "IndexError",
     "evalue": "list index out of range",
     "output_type": "error",
     "traceback": [
      "\u001b[0;31m---------------------------------------------------------------------------\u001b[0m",
      "\u001b[0;31mIndexError\u001b[0m                                Traceback (most recent call last)",
      "\u001b[0;32m/var/folders/q_/kjfqpv9x6yn1mmjwphl_yzz00000gn/T/ipykernel_3204/1329439445.py\u001b[0m in \u001b[0;36m<module>\u001b[0;34m\u001b[0m\n\u001b[1;32m      5\u001b[0m     \u001b[0mplayer1\u001b[0m\u001b[0;34m.\u001b[0m\u001b[0mshow\u001b[0m\u001b[0;34m(\u001b[0m\u001b[0;34m)\u001b[0m\u001b[0;34m\u001b[0m\u001b[0;34m\u001b[0m\u001b[0m\n\u001b[1;32m      6\u001b[0m     \u001b[0mkill\u001b[0m\u001b[0;34m=\u001b[0m\u001b[0mint\u001b[0m\u001b[0;34m(\u001b[0m\u001b[0minput\u001b[0m\u001b[0;34m(\u001b[0m\u001b[0;34m'select tile to discard: '\u001b[0m\u001b[0;34m)\u001b[0m\u001b[0;34m)\u001b[0m\u001b[0;34m\u001b[0m\u001b[0;34m\u001b[0m\u001b[0m\n\u001b[0;32m----> 7\u001b[0;31m     \u001b[0mb\u001b[0m\u001b[0;34m.\u001b[0m\u001b[0mdiscard\u001b[0m\u001b[0;34m(\u001b[0m\u001b[0mplayer1\u001b[0m\u001b[0;34m.\u001b[0m\u001b[0mdiscard\u001b[0m\u001b[0;34m(\u001b[0m\u001b[0mkill\u001b[0m\u001b[0;34m)\u001b[0m\u001b[0;34m)\u001b[0m\u001b[0;34m\u001b[0m\u001b[0;34m\u001b[0m\u001b[0m\n\u001b[0m\u001b[1;32m      8\u001b[0m     \u001b[0mplayer1\u001b[0m\u001b[0;34m.\u001b[0m\u001b[0mpick\u001b[0m\u001b[0;34m(\u001b[0m\u001b[0mb\u001b[0m\u001b[0;34m.\u001b[0m\u001b[0mextract\u001b[0m\u001b[0;34m(\u001b[0m\u001b[0;34m)\u001b[0m\u001b[0;34m)\u001b[0m\u001b[0;34m\u001b[0m\u001b[0;34m\u001b[0m\u001b[0m\n\u001b[1;32m      9\u001b[0m     \u001b[0mclear_output\u001b[0m\u001b[0;34m(\u001b[0m\u001b[0mwait\u001b[0m\u001b[0;34m=\u001b[0m\u001b[0;32mTrue\u001b[0m\u001b[0;34m)\u001b[0m\u001b[0;34m\u001b[0m\u001b[0;34m\u001b[0m\u001b[0m\n",
      "\u001b[0;32m/var/folders/q_/kjfqpv9x6yn1mmjwphl_yzz00000gn/T/ipykernel_3204/84163211.py\u001b[0m in \u001b[0;36mdiscard\u001b[0;34m(self, index)\u001b[0m\n\u001b[1;32m     21\u001b[0m         \u001b[0mself\u001b[0m\u001b[0;34m.\u001b[0m\u001b[0mtreasures\u001b[0m\u001b[0;34m=\u001b[0m\u001b[0;34m[\u001b[0m\u001b[0;34m]\u001b[0m\u001b[0;34m\u001b[0m\u001b[0;34m\u001b[0m\u001b[0m\n\u001b[1;32m     22\u001b[0m     \u001b[0;32mdef\u001b[0m \u001b[0mdiscard\u001b[0m\u001b[0;34m(\u001b[0m\u001b[0mself\u001b[0m\u001b[0;34m,\u001b[0m\u001b[0mindex\u001b[0m\u001b[0;34m)\u001b[0m\u001b[0;34m:\u001b[0m\u001b[0;34m\u001b[0m\u001b[0;34m\u001b[0m\u001b[0m\n\u001b[0;32m---> 23\u001b[0;31m         \u001b[0mr\u001b[0m\u001b[0;34m=\u001b[0m\u001b[0mself\u001b[0m\u001b[0;34m.\u001b[0m\u001b[0mtiles\u001b[0m\u001b[0;34m[\u001b[0m\u001b[0mindex\u001b[0m\u001b[0;34m]\u001b[0m\u001b[0;34m\u001b[0m\u001b[0;34m\u001b[0m\u001b[0m\n\u001b[0m\u001b[1;32m     24\u001b[0m         \u001b[0;32mdel\u001b[0m\u001b[0;34m(\u001b[0m\u001b[0mself\u001b[0m\u001b[0;34m.\u001b[0m\u001b[0mtiles\u001b[0m\u001b[0;34m[\u001b[0m\u001b[0mindex\u001b[0m\u001b[0;34m]\u001b[0m\u001b[0;34m)\u001b[0m\u001b[0;34m\u001b[0m\u001b[0;34m\u001b[0m\u001b[0m\n\u001b[1;32m     25\u001b[0m         \u001b[0;32mreturn\u001b[0m \u001b[0mr\u001b[0m\u001b[0;34m\u001b[0m\u001b[0;34m\u001b[0m\u001b[0m\n",
      "\u001b[0;31mIndexError\u001b[0m: list index out of range"
     ]
    }
   ],
   "source": [
    "while b.remaining()>0:\n",
    "    print ('discarded:')\n",
    "    b.showDiscarded()\n",
    "    print ('your hand:')\n",
    "    player1.show()\n",
    "    kill=int(input('select tile to discard: '))\n",
    "    b.discard(player1.discard(kill))\n",
    "    player1.pick(b.extract())\n",
    "    clear_output(wait=True)"
   ]
  },
  {
   "cell_type": "code",
   "execution_count": null,
   "id": "854cd133-d1ec-4912-b46a-1de8ae7168f4",
   "metadata": {},
   "outputs": [],
   "source": []
  },
  {
   "cell_type": "code",
   "execution_count": 147,
   "id": "41f3ce6e-abcd-464e-878f-5f78cf8ab082",
   "metadata": {},
   "outputs": [
    {
     "data": {
      "text/plain": [
       "True"
      ]
     },
     "execution_count": 147,
     "metadata": {},
     "output_type": "execute_result"
    }
   ],
   "source": [
    "player1.discard(12)"
   ]
  },
  {
   "cell_type": "code",
   "execution_count": 118,
   "id": "3d271885-00bb-45a7-81c1-dc5a3397d0c1",
   "metadata": {},
   "outputs": [
    {
     "data": {
      "text/html": [
       "<span style=\"font-size: 40px;\"></span>"
      ],
      "text/plain": [
       "<IPython.core.display.HTML object>"
      ]
     },
     "metadata": {},
     "output_type": "display_data"
    },
    {
     "data": {
      "text/html": [
       "<span style=\"font-size: 40px;\">&#x1F000 &#x1F007 &#x1F007 &#x1F00D &#x1F00E &#x1F010 &#x1F011 &#x1F018 &#x1F01A &#x1F01B &#x1F01B &#x1F020 &#x1F021 </span>"
      ],
      "text/plain": [
       "<IPython.core.display.HTML object>"
      ]
     },
     "metadata": {},
     "output_type": "display_data"
    }
   ],
   "source": [
    "player1.show()"
   ]
  },
  {
   "cell_type": "code",
   "execution_count": 112,
   "id": "38e11d1c-7bb9-42c6-9465-c95011a790bd",
   "metadata": {},
   "outputs": [],
   "source": [
    "player1.pick(b.extract())"
   ]
  },
  {
   "cell_type": "code",
   "execution_count": 113,
   "id": "18dfcf9f-f4ae-4a0a-9d67-85663d443733",
   "metadata": {},
   "outputs": [
    {
     "data": {
      "text/html": [
       "<span style=\"font-size: 40px;\"></span>"
      ],
      "text/plain": [
       "<IPython.core.display.HTML object>"
      ]
     },
     "metadata": {},
     "output_type": "display_data"
    },
    {
     "data": {
      "text/html": [
       "<span style=\"font-size: 40px;\">&#x1F005 &#x1F006 &#x1F001 &#x1F00E &#x1F00E &#x1F012 &#x1F013 &#x1F014 &#x1F017 &#x1F01B &#x1F01C &#x1F01D &#x1F01D &#x1F01E </span>"
      ],
      "text/plain": [
       "<IPython.core.display.HTML object>"
      ]
     },
     "metadata": {},
     "output_type": "display_data"
    }
   ],
   "source": [
    "player1.show()"
   ]
  },
  {
   "cell_type": "code",
   "execution_count": 114,
   "id": "e3c80ea2-77b3-4bb1-8cca-b5f7506bc4f4",
   "metadata": {},
   "outputs": [
    {
     "ename": "AttributeError",
     "evalue": "'heap' object has no attribute 'dis'",
     "output_type": "error",
     "traceback": [
      "\u001b[0;31m---------------------------------------------------------------------------\u001b[0m",
      "\u001b[0;31mAttributeError\u001b[0m                            Traceback (most recent call last)",
      "\u001b[0;32m/var/folders/q_/kjfqpv9x6yn1mmjwphl_yzz00000gn/T/ipykernel_3204/3489142704.py\u001b[0m in \u001b[0;36m<module>\u001b[0;34m\u001b[0m\n\u001b[0;32m----> 1\u001b[0;31m \u001b[0mb\u001b[0m\u001b[0;34m.\u001b[0m\u001b[0mshowDiscarded\u001b[0m\u001b[0;34m(\u001b[0m\u001b[0;34m)\u001b[0m\u001b[0;34m\u001b[0m\u001b[0;34m\u001b[0m\u001b[0m\n\u001b[0m",
      "\u001b[0;32m/var/folders/q_/kjfqpv9x6yn1mmjwphl_yzz00000gn/T/ipykernel_3204/2998077970.py\u001b[0m in \u001b[0;36mshowDiscarded\u001b[0;34m(self)\u001b[0m\n\u001b[1;32m     71\u001b[0m     \u001b[0;32mdef\u001b[0m \u001b[0mshowDiscarded\u001b[0m\u001b[0;34m(\u001b[0m\u001b[0mself\u001b[0m\u001b[0;34m)\u001b[0m\u001b[0;34m:\u001b[0m\u001b[0;34m\u001b[0m\u001b[0;34m\u001b[0m\u001b[0m\n\u001b[1;32m     72\u001b[0m         \u001b[0mtileDisplay\u001b[0m\u001b[0;34m=\u001b[0m\u001b[0;34m''\u001b[0m\u001b[0;34m\u001b[0m\u001b[0;34m\u001b[0m\u001b[0m\n\u001b[0;32m---> 73\u001b[0;31m         \u001b[0;32mfor\u001b[0m \u001b[0mx\u001b[0m \u001b[0;32min\u001b[0m \u001b[0mself\u001b[0m\u001b[0;34m.\u001b[0m\u001b[0mdis\u001b[0m\u001b[0;34m:\u001b[0m\u001b[0;34m\u001b[0m\u001b[0;34m\u001b[0m\u001b[0m\n\u001b[0m\u001b[1;32m     74\u001b[0m             \u001b[0mtileDisplay\u001b[0m\u001b[0;34m+=\u001b[0m\u001b[0mx\u001b[0m\u001b[0;34m.\u001b[0m\u001b[0msymbol\u001b[0m\u001b[0;34m+\u001b[0m\u001b[0;34m' '\u001b[0m\u001b[0;34m\u001b[0m\u001b[0;34m\u001b[0m\u001b[0m\n\u001b[1;32m     75\u001b[0m         \u001b[0mdisplay\u001b[0m \u001b[0;34m(\u001b[0m\u001b[0mHTML\u001b[0m\u001b[0;34m(\u001b[0m\u001b[0;34mf'<span style=\"font-size: 40px;\">{tileDisplay}</span>'\u001b[0m\u001b[0;34m)\u001b[0m\u001b[0;34m)\u001b[0m\u001b[0;34m\u001b[0m\u001b[0;34m\u001b[0m\u001b[0m\n",
      "\u001b[0;31mAttributeError\u001b[0m: 'heap' object has no attribute 'dis'"
     ]
    }
   ],
   "source": [
    "b.showDiscarded()"
   ]
  },
  {
   "cell_type": "code",
   "execution_count": null,
   "id": "89d9198e-f9c6-45e7-bbd2-dffd2f295e29",
   "metadata": {},
   "outputs": [],
   "source": []
  }
 ],
 "metadata": {
  "kernelspec": {
   "display_name": "Python 3 (ipykernel)",
   "language": "python",
   "name": "python3"
  },
  "language_info": {
   "codemirror_mode": {
    "name": "ipython",
    "version": 3
   },
   "file_extension": ".py",
   "mimetype": "text/x-python",
   "name": "python",
   "nbconvert_exporter": "python",
   "pygments_lexer": "ipython3",
   "version": "3.9.7"
  }
 },
 "nbformat": 4,
 "nbformat_minor": 5
}
