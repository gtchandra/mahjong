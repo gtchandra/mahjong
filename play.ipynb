{
 "cells": [
  {
   "cell_type": "code",
   "execution_count": 1,
   "id": "aae0a3bb-89de-4dcb-b5bd-23e2eacb0886",
   "metadata": {},
   "outputs": [],
   "source": [
    "from mahjong import heap,tileSet\n",
    "from IPython.display import HTML\n",
    "from IPython.display import clear_output"
   ]
  },
  {
   "cell_type": "code",
   "execution_count": 2,
   "id": "465a553b-f81c-422f-a1cd-85c1813e2ded",
   "metadata": {},
   "outputs": [
    {
     "data": {
      "text/html": [
       "<span style=\"font-size: 40px;\"></span>"
      ],
      "text/plain": [
       "<IPython.core.display.HTML object>"
      ]
     },
     "metadata": {},
     "output_type": "display_data"
    },
    {
     "data": {
      "text/html": [
       "<span style=\"font-size: 40px;\">&#x1F004 &#x1F006 &#x1F001 &#x1F001 &#x1F003 &#x1F007 &#x1F007 &#x1F00A &#x1F00B &#x1F00C &#x1F00D &#x1F015 &#x1F01A &#x1F021 </span>"
      ],
      "text/plain": [
       "<IPython.core.display.HTML object>"
      ]
     },
     "metadata": {},
     "output_type": "display_data"
    }
   ],
   "source": [
    "game=heap()\n",
    "player1=tileSet()\n",
    "\n",
    "for i in range(14):\n",
    "    player1.pick(game.extract())\n",
    "    #print(len(player1.tiles))\n",
    "player1.show()\n"
   ]
  },
  {
   "cell_type": "code",
   "execution_count": 3,
   "id": "7cf73fe2-3838-4d49-95aa-44a077e0096a",
   "metadata": {},
   "outputs": [
    {
     "name": "stdout",
     "output_type": "stream",
     "text": [
      "{'&#x1F004': 1, '&#x1F006': 1, '&#x1F001': 2, '&#x1F003': 1, '&#x1F007': 2, '&#x1F00A': 1, '&#x1F00B': 1, '&#x1F00C': 1, '&#x1F00D': 1, '&#x1F015': 1, '&#x1F01A': 1, '&#x1F021': 1}\n"
     ]
    }
   ],
   "source": [
    "player1.alertTiles()"
   ]
  },
  {
   "cell_type": "code",
   "execution_count": null,
   "id": "b61afe83-6711-4b6b-b8fb-9e7939e388f7",
   "metadata": {},
   "outputs": [
    {
     "name": "stdout",
     "output_type": "stream",
     "text": [
      "MAHJONG: True\n",
      "discarded:\n"
     ]
    },
    {
     "data": {
      "text/html": [
       "<span style=\"font-size: 40px;\">&#x1F004 &#x1F006 &#x1F003 &#x1F021 &#x1F01A &#x1F015 &#x1F017 &#x1F014 &#x1F019 &#x1F016 &#x1F006 &#x1F01C &#x1F015 &#x1F00F &#x1F01E &#x1F00D &#x1F00B &#x1F00D </span>"
      ],
      "text/plain": [
       "<IPython.core.display.HTML object>"
      ]
     },
     "metadata": {},
     "output_type": "display_data"
    },
    {
     "name": "stdout",
     "output_type": "stream",
     "text": [
      "your hand:\n"
     ]
    },
    {
     "data": {
      "text/html": [
       "<span style=\"font-size: 40px;\"></span>"
      ],
      "text/plain": [
       "<IPython.core.display.HTML object>"
      ]
     },
     "metadata": {},
     "output_type": "display_data"
    },
    {
     "data": {
      "text/html": [
       "<span style=\"font-size: 40px;\">&#x1F001 &#x1F001 &#x1F001 &#x1F007 &#x1F007 &#x1F00A &#x1F00A &#x1F00A &#x1F00C &#x1F00C &#x1F00C &#x1F010 &#x1F011 &#x1F012 </span>"
      ],
      "text/plain": [
       "<IPython.core.display.HTML object>"
      ]
     },
     "metadata": {},
     "output_type": "display_data"
    }
   ],
   "source": [
    "\n",
    "while game.remaining()>0:\n",
    "    print ('MAHJONG:',player1.isMahjong())\n",
    "    print ('discarded:')\n",
    "    game.showDiscarded()\n",
    "    print ('your hand:')\n",
    "    player1.show()\n",
    "    kill=int(input('select tile to discard: '))\n",
    "    game.discard(player1.discard(kill))\n",
    "    player1.pick(game.extract())\n",
    "    clear_output(wait=True)\n",
    "    \n",
    "    "
   ]
  },
  {
   "cell_type": "code",
   "execution_count": 12,
   "id": "e77647ce-1d10-46ba-a447-7165c0d423f3",
   "metadata": {},
   "outputs": [
    {
     "data": {
      "text/plain": [
       "[2, 2, 5, 6, 7]"
      ]
     },
     "execution_count": 12,
     "metadata": {},
     "output_type": "execute_result"
    }
   ],
   "source": [
    "[x.num for x in player1.tiles if x.type=='Circle']"
   ]
  },
  {
   "cell_type": "code",
   "execution_count": null,
   "id": "d2800fb1-cf1a-4cff-ad25-89fead18f14c",
   "metadata": {},
   "outputs": [],
   "source": []
  }
 ],
 "metadata": {
  "kernelspec": {
   "display_name": "Python 3 (ipykernel)",
   "language": "python",
   "name": "python3"
  },
  "language_info": {
   "codemirror_mode": {
    "name": "ipython",
    "version": 3
   },
   "file_extension": ".py",
   "mimetype": "text/x-python",
   "name": "python",
   "nbconvert_exporter": "python",
   "pygments_lexer": "ipython3",
   "version": "3.9.7"
  }
 },
 "nbformat": 4,
 "nbformat_minor": 5
}
