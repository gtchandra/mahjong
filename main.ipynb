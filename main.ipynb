{
 "cells": [
  {
   "cell_type": "code",
   "execution_count": 7,
   "id": "ac86c52a-9a1f-439b-a792-4bb092bfcdaa",
   "metadata": {},
   "outputs": [
    {
     "data": {
      "text/html": [
       "<span style=\"font-size: 140px;\">&#x1F000;&#x1F000;</span>"
      ],
      "text/plain": [
       "<IPython.core.display.HTML object>"
      ]
     },
     "metadata": {},
     "output_type": "display_data"
    }
   ],
   "source": [
    "from IPython.display import HTML\n",
    "content='&#x1F000;'\n",
    "display (HTML(f'<span style=\"font-size: 140px;\">{content}{content}</span>'))"
   ]
  },
  {
   "cell_type": "code",
   "execution_count": 48,
   "id": "54471b5c-0395-4492-a41b-d6e9f0452329",
   "metadata": {},
   "outputs": [
    {
     "data": {
      "text/html": [
       "<span style=\"font-size: 40px;\">&#x1F000;&#x1F001;&#x1F002;&#x1F003;&#x1F004;&#x1F005;&#x1F006;&#x1F007;&#x1F008;&#x1F009;&#x1F00a;&#x1F00b;&#x1F00c;&#x1F00d;&#x1F00e;&#x1F00f;&#x1F010;&#x1F011;&#x1F012;&#x1F013;&#x1F014;&#x1F015;&#x1F016;&#x1F017;&#x1F018;&#x1F019;&#x1F01a;&#x1F01b;&#x1F01c;&#x1F01d;&#x1F01e;&#x1F01f;&#x1F020;&#x1F021;&#x1F022;&#x1F023;&#x1F024;&#x1F025;&#x1F026;&#x1F027;&#x1F028;&#x1F029;&#x1F02a;</span>"
      ],
      "text/plain": [
       "<IPython.core.display.HTML object>"
      ]
     },
     "metadata": {},
     "output_type": "display_data"
    }
   ],
   "source": [
    "tile=''\n",
    "for i in range(43):\n",
    "    tile+=f\"&#x1F0{i:0{2}x};\"\n",
    "display (HTML(f'<span style=\"font-size: 40px;\">{tile}</span>'))\n",
    "    "
   ]
  },
  {
   "cell_type": "code",
   "execution_count": 103,
   "id": "24a80d14-8866-40d4-ae49-bf534d323243",
   "metadata": {},
   "outputs": [
    {
     "data": {
      "text/html": [
       "<span style=\"font-size: 40px;\"></span>"
      ],
      "text/plain": [
       "<IPython.core.display.HTML object>"
      ]
     },
     "metadata": {},
     "output_type": "display_data"
    },
    {
     "data": {
      "text/html": [
       "<span style=\"font-size: 40px;\">&#x1F005 &#x1F005 &#x1F008 &#x1F00B &#x1F00D &#x1F00E &#x1F012 &#x1F014 &#x1F015 &#x1F016 &#x1F01A &#x1F01B &#x1F01C &#x1F020 </span>"
      ],
      "text/plain": [
       "<IPython.core.display.HTML object>"
      ]
     },
     "metadata": {},
     "output_type": "display_data"
    },
    {
     "name": "stdout",
     "output_type": "stream",
     "text": [
      "130\n"
     ]
    }
   ],
   "source": [
    "DRAGON={'name':'Dragon','index':(0,1,2),'symbols':['&#x1F004','&#x1F005','&#x1F006'],'number':4}\n",
    "WIND={'name':'Wind','index':(0,1,2,3),'symbols':['&#x1F000','&#x1F001','&#x1F002','&#x1F003'],'number':4}\n",
    "FLOWER={'name':'Season','index':(0,1,2,3),'symbols':['&#x1F022','&#x1F023','&#x1F024','&#x1F025'],'number':1}\n",
    "SEASON={'name':'Flower','index':(0,1,2,3),'symbols':['&#x1F026','&#x1F027','&#x1F028','&#x1F029'],'number':1}\n",
    "BAMBOO={'name':'Bamboo','index':(0,1,2,3,4,5,6,7,8),'symbols':['&#x1F010','&#x1F011','&#x1F012','&#x1F013','&#x1F014','&#x1F015','&#x1F016','&#x1F017','&#x1F018'],'number':4}\n",
    "CIRCLES={'name':'Circle','index':(0,1,2,3,4,5,6,7,8),'symbols':['&#x1F019','&#x1F01A','&#x1F01B','&#x1F01C','&#x1F01D','&#x1F01E','&#x1F01F','&#x1F020','&#x1F021'],'number':4}\n",
    "CHARACTERS={'name':'Character','index':(0,1,2,3,4,5,6,7,8),'symbols':['&#x1F007','&#x1F008','&#x1F009','&#x1F00A','&#x1F00B','&#x1F00C','&#x1F00D','&#x1F00E','&#x1F00F'],'number':4}\n",
    "TYPES=('Season','Flower','Dragon','Wind','Character','Bamboo','Circle')\n",
    "\n",
    "import random \n",
    "\n",
    "class Tile():\n",
    "    def __init__(self,type,num,symbol=''):\n",
    "        self.num=num\n",
    "        self.type=type\n",
    "        self.symbol=symbol\n",
    "\n",
    "class tileSet():\n",
    "    def __init__(self):\n",
    "        self.tiles=[]\n",
    "        self.treasures=[]\n",
    "    def discard(self,index):\n",
    "        del(self.tiles[index])\n",
    "        return True\n",
    "    def pick(self,tile):\n",
    "        self.tiles.append(tile)\n",
    "        self.check()\n",
    "    def full(self):\n",
    "        return len(self.tiles)==13\n",
    "    def check(self):\n",
    "        # separate treasures from playing tiles\n",
    "        self.treasures=[x for x in self.tiles if x.type in TYPES[:2]]\n",
    "        for x in self.treasures:\n",
    "            self.tiles.remove(x)\n",
    "        # sort tiles\n",
    "        sortedTiles=[]\n",
    "        for t in TYPES:\n",
    "            y=[x for x in self.tiles if x.type==t]\n",
    "            y.sort(key= lambda x: x.num)\n",
    "            sortedTiles+=y\n",
    "        self.tiles=sortedTiles\n",
    "    def show(self):\n",
    "        tileDisplay=''\n",
    "        for x in self.treasures:\n",
    "            tileDisplay+=x.symbol+' '\n",
    "        display (HTML(f'<span style=\"font-size: 40px;\">{tileDisplay}</span>'))\n",
    "        tileDisplay=''\n",
    "        for x in self.tiles:\n",
    "            tileDisplay+=x.symbol+' '\n",
    "        display (HTML(f'<span style=\"font-size: 40px;\">{tileDisplay}</span>'))\n",
    "        \n",
    "class heap():\n",
    "    def __init__(self):\n",
    "        lis=[]\n",
    "        dis=[]\n",
    "        for t in (DRAGON,WIND,CHARACTERS,BAMBOO,CIRCLES,SEASON,FLOWER): #,WIND,SEASON,FLOWER,CIRCLES,BAMBOO,CHARACTERS): \n",
    "            for i in range(t['number']):\n",
    "                for k in t['index']:\n",
    "                    a=Tile(t['name'],k,t[\"symbols\"][k])\n",
    "                    lis.append(a)\n",
    "        random.shuffle(lis)\n",
    "        self.lis=lis\n",
    "    def extract(self):\n",
    "        x=self.lis[0]\n",
    "        del self.lis[0]\n",
    "        return x\n",
    "    def remaining(self):\n",
    "        return len(self.lis)\n",
    "    \n",
    "b=heap()\n",
    "tiles=[]\n",
    "player1=tileSet()\n",
    "\n",
    "for i in range(14):\n",
    "    player1.pick(b.extract())\n",
    "player1.show()\n",
    "\n",
    "\n",
    "print (b.remaining())"
   ]
  },
  {
   "cell_type": "code",
   "execution_count": 98,
   "id": "3d271885-00bb-45a7-81c1-dc5a3397d0c1",
   "metadata": {},
   "outputs": [
    {
     "data": {
      "text/plain": [
       "False"
      ]
     },
     "execution_count": 98,
     "metadata": {},
     "output_type": "execute_result"
    }
   ],
   "source": [
    "player1.full()"
   ]
  },
  {
   "cell_type": "code",
   "execution_count": 101,
   "id": "38e11d1c-7bb9-42c6-9465-c95011a790bd",
   "metadata": {},
   "outputs": [],
   "source": [
    "while not player1.full():\n",
    "    player1.pick(b.extract())"
   ]
  },
  {
   "cell_type": "code",
   "execution_count": 102,
   "id": "18dfcf9f-f4ae-4a0a-9d67-85663d443733",
   "metadata": {},
   "outputs": [
    {
     "data": {
      "text/html": [
       "<span style=\"font-size: 40px;\"></span>"
      ],
      "text/plain": [
       "<IPython.core.display.HTML object>"
      ]
     },
     "metadata": {},
     "output_type": "display_data"
    },
    {
     "data": {
      "text/html": [
       "<span style=\"font-size: 40px;\">&#x1F001 &#x1F001 &#x1F001 &#x1F002 &#x1F002 &#x1F009 &#x1F00C &#x1F00E &#x1F015 &#x1F01D &#x1F01E &#x1F01E &#x1F020 </span>"
      ],
      "text/plain": [
       "<IPython.core.display.HTML object>"
      ]
     },
     "metadata": {},
     "output_type": "display_data"
    }
   ],
   "source": [
    "player1.show()"
   ]
  },
  {
   "cell_type": "code",
   "execution_count": null,
   "id": "e3c80ea2-77b3-4bb1-8cca-b5f7506bc4f4",
   "metadata": {},
   "outputs": [],
   "source": []
  }
 ],
 "metadata": {
  "kernelspec": {
   "display_name": "Python 3 (ipykernel)",
   "language": "python",
   "name": "python3"
  },
  "language_info": {
   "codemirror_mode": {
    "name": "ipython",
    "version": 3
   },
   "file_extension": ".py",
   "mimetype": "text/x-python",
   "name": "python",
   "nbconvert_exporter": "python",
   "pygments_lexer": "ipython3",
   "version": "3.9.7"
  }
 },
 "nbformat": 4,
 "nbformat_minor": 5
}
