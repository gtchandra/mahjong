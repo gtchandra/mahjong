{
 "cells": [
  {
   "cell_type": "code",
   "execution_count": 160,
   "id": "ac86c52a-9a1f-439b-a792-4bb092bfcdaa",
   "metadata": {},
   "outputs": [
    {
     "data": {
      "text/html": [
       "<span style=\"font-size: 140px;\">&#x1F000;&#x1F000;</span>"
      ],
      "text/plain": [
       "<IPython.core.display.HTML object>"
      ]
     },
     "metadata": {},
     "output_type": "display_data"
    }
   ],
   "source": [
    "from IPython.display import HTML\n",
    "from IPython.display import clear_output\n",
    "content='&#x1F000;'\n",
    "display (HTML(f'<span style=\"font-size: 140px;\">{content}{content}</span>'))"
   ]
  },
  {
   "cell_type": "code",
   "execution_count": 48,
   "id": "54471b5c-0395-4492-a41b-d6e9f0452329",
   "metadata": {},
   "outputs": [
    {
     "data": {
      "text/html": [
       "<span style=\"font-size: 40px;\">&#x1F000;&#x1F001;&#x1F002;&#x1F003;&#x1F004;&#x1F005;&#x1F006;&#x1F007;&#x1F008;&#x1F009;&#x1F00a;&#x1F00b;&#x1F00c;&#x1F00d;&#x1F00e;&#x1F00f;&#x1F010;&#x1F011;&#x1F012;&#x1F013;&#x1F014;&#x1F015;&#x1F016;&#x1F017;&#x1F018;&#x1F019;&#x1F01a;&#x1F01b;&#x1F01c;&#x1F01d;&#x1F01e;&#x1F01f;&#x1F020;&#x1F021;&#x1F022;&#x1F023;&#x1F024;&#x1F025;&#x1F026;&#x1F027;&#x1F028;&#x1F029;&#x1F02a;</span>"
      ],
      "text/plain": [
       "<IPython.core.display.HTML object>"
      ]
     },
     "metadata": {},
     "output_type": "display_data"
    }
   ],
   "source": [
    "tile=''\n",
    "for i in range(43):\n",
    "    tile+=f\"&#x1F0{i:0{2}x};\"\n",
    "display (HTML(f'<span style=\"font-size: 40px;\">{tile}</span>'))\n",
    "    "
   ]
  },
  {
   "cell_type": "code",
   "execution_count": 156,
   "id": "24a80d14-8866-40d4-ae49-bf534d323243",
   "metadata": {},
   "outputs": [],
   "source": [
    "DRAGON={'name':'Dragon','index':(0,1,2),'symbols':['&#x1F004','&#x1F005','&#x1F006'],'number':4}\n",
    "WIND={'name':'Wind','index':(0,1,2,3),'symbols':['&#x1F000','&#x1F001','&#x1F002','&#x1F003'],'number':4}\n",
    "FLOWER={'name':'Season','index':(0,1,2,3),'symbols':['&#x1F022','&#x1F023','&#x1F024','&#x1F025'],'number':1}\n",
    "SEASON={'name':'Flower','index':(0,1,2,3),'symbols':['&#x1F026','&#x1F027','&#x1F028','&#x1F029'],'number':1}\n",
    "BAMBOO={'name':'Bamboo','index':(0,1,2,3,4,5,6,7,8),'symbols':['&#x1F010','&#x1F011','&#x1F012','&#x1F013','&#x1F014','&#x1F015','&#x1F016','&#x1F017','&#x1F018'],'number':4}\n",
    "CIRCLES={'name':'Circle','index':(0,1,2,3,4,5,6,7,8),'symbols':['&#x1F019','&#x1F01A','&#x1F01B','&#x1F01C','&#x1F01D','&#x1F01E','&#x1F01F','&#x1F020','&#x1F021'],'number':4}\n",
    "CHARACTERS={'name':'Character','index':(0,1,2,3,4,5,6,7,8),'symbols':['&#x1F007','&#x1F008','&#x1F009','&#x1F00A','&#x1F00B','&#x1F00C','&#x1F00D','&#x1F00E','&#x1F00F'],'number':4}\n",
    "TYPES=('Season','Flower','Dragon','Wind','Character','Bamboo','Circle')\n",
    "\n",
    "import random \n",
    "\n",
    "class Tile():\n",
    "    def __init__(self,type,num,symbol=''):\n",
    "        self.num=num\n",
    "        self.type=type\n",
    "        self.symbol=symbol\n",
    "\n",
    "class tileSet():\n",
    "    def __init__(self):\n",
    "        self.tiles=[]\n",
    "        self.treasures=[]\n",
    "    def discard(self,index):\n",
    "        r=self.tiles[index]\n",
    "        del(self.tiles[index])\n",
    "        return r\n",
    "    def pick(self,tile):\n",
    "        self.tiles.append(tile)\n",
    "        self.check()\n",
    "    def full(self):\n",
    "        return len(self.tiles)==13\n",
    "    def check(self):\n",
    "        # separate treasures from playing tiles\n",
    "        self.treasures+=[x for x in self.tiles if x.type in TYPES[:2]]\n",
    "        for x in self.treasures:\n",
    "            if self.tiles.count(x):\n",
    "                self.tiles.remove(x)\n",
    "        # sort tiles\n",
    "        sortedTiles=[]\n",
    "        for t in TYPES:\n",
    "            y=[x for x in self.tiles if x.type==t]\n",
    "            y.sort(key= lambda x: x.num)\n",
    "            sortedTiles+=y\n",
    "        self.tiles=sortedTiles\n",
    "    def show(self):\n",
    "        tileDisplay=''\n",
    "        for x in self.treasures:\n",
    "            tileDisplay+=x.symbol+' '\n",
    "        display (HTML(f'<span style=\"font-size: 40px;\">{tileDisplay}</span>'))\n",
    "        tileDisplay=''\n",
    "        for x in self.tiles:\n",
    "            tileDisplay+=x.symbol+' '\n",
    "        display (HTML(f'<span style=\"font-size: 40px;\">{tileDisplay}</span>'))\n",
    "        \n",
    "class heap():\n",
    "    def __init__(self):\n",
    "        lis=[]\n",
    "        self.dis=[]\n",
    "        for t in (DRAGON,WIND,CHARACTERS,BAMBOO,CIRCLES,SEASON,FLOWER): #,WIND,SEASON,FLOWER,CIRCLES,BAMBOO,CHARACTERS): \n",
    "            for i in range(t['number']):\n",
    "                for k in t['index']:\n",
    "                    a=Tile(t['name'],k,t[\"symbols\"][k])\n",
    "                    lis.append(a)\n",
    "        random.shuffle(lis)\n",
    "        self.lis=lis\n",
    "    def extract(self):\n",
    "        x=self.lis[0]\n",
    "        del self.lis[0]\n",
    "        return x\n",
    "    def discard(self,tile):\n",
    "        self.dis.append(tile)\n",
    "    def remaining(self):\n",
    "        return len(self.lis)\n",
    "    def showDiscarded(self):\n",
    "        tileDisplay=''\n",
    "        for x in self.dis:\n",
    "            tileDisplay+=x.symbol+' '\n",
    "        display (HTML(f'<span style=\"font-size: 40px;\">{tileDisplay}</span>'))\n",
    "        \n",
    "    \n"
   ]
  },
  {
   "cell_type": "code",
   "execution_count": 157,
   "id": "37f4b3db-4101-4910-a971-14269d97bcb6",
   "metadata": {},
   "outputs": [
    {
     "data": {
      "text/html": [
       "<span style=\"font-size: 40px;\">&#x1F023 </span>"
      ],
      "text/plain": [
       "<IPython.core.display.HTML object>"
      ]
     },
     "metadata": {},
     "output_type": "display_data"
    },
    {
     "data": {
      "text/html": [
       "<span style=\"font-size: 40px;\">&#x1F005 &#x1F005 &#x1F005 &#x1F002 &#x1F00B &#x1F015 &#x1F016 &#x1F018 &#x1F01B &#x1F01C &#x1F01C &#x1F01E &#x1F021 </span>"
      ],
      "text/plain": [
       "<IPython.core.display.HTML object>"
      ]
     },
     "metadata": {},
     "output_type": "display_data"
    },
    {
     "name": "stdout",
     "output_type": "stream",
     "text": [
      "130\n"
     ]
    }
   ],
   "source": [
    "b=heap()\n",
    "tiles=[]\n",
    "player1=tileSet()\n",
    "\n",
    "for i in range(14):\n",
    "    player1.pick(b.extract())\n",
    "    #print(len(player1.tiles))\n",
    "player1.show()\n",
    "\n",
    "\n",
    "print (b.remaining())"
   ]
  },
  {
   "cell_type": "code",
   "execution_count": 158,
   "id": "d26353df-ebb9-47f8-b6d9-91097724da9a",
   "metadata": {},
   "outputs": [],
   "source": [
    "\n",
    "b.discard(player1.discard(4))"
   ]
  },
  {
   "cell_type": "code",
   "execution_count": 159,
   "id": "c961b364-487e-4837-bc08-5ecca785a10a",
   "metadata": {},
   "outputs": [
    {
     "data": {
      "text/html": [
       "<span style=\"font-size: 40px;\">&#x1F00B </span>"
      ],
      "text/plain": [
       "<IPython.core.display.HTML object>"
      ]
     },
     "metadata": {},
     "output_type": "display_data"
    }
   ],
   "source": [
    "b.showDiscarded()"
   ]
  },
  {
   "cell_type": "code",
   "execution_count": 162,
   "id": "a9b65aee-e3f2-4152-b742-10a989272f98",
   "metadata": {},
   "outputs": [
    {
     "name": "stdout",
     "output_type": "stream",
     "text": [
      "discarded:\n"
     ]
    },
    {
     "data": {
      "text/html": [
       "<span style=\"font-size: 40px;\">&#x1F00B &#x1F01B &#x1F002 &#x1F00E &#x1F012 &#x1F009 &#x1F011 &#x1F015 &#x1F018 &#x1F014 &#x1F012 &#x1F004 </span>"
      ],
      "text/plain": [
       "<IPython.core.display.HTML object>"
      ]
     },
     "metadata": {},
     "output_type": "display_data"
    },
    {
     "name": "stdout",
     "output_type": "stream",
     "text": [
      "your hand:\n"
     ]
    },
    {
     "data": {
      "text/html": [
       "<span style=\"font-size: 40px;\">&#x1F023 </span>"
      ],
      "text/plain": [
       "<IPython.core.display.HTML object>"
      ]
     },
     "metadata": {},
     "output_type": "display_data"
    },
    {
     "data": {
      "text/html": [
       "<span style=\"font-size: 40px;\">&#x1F005 &#x1F005 &#x1F005 &#x1F006 &#x1F006 &#x1F016 &#x1F016 &#x1F01C &#x1F01C &#x1F01E &#x1F01E &#x1F021 </span>"
      ],
      "text/plain": [
       "<IPython.core.display.HTML object>"
      ]
     },
     "metadata": {},
     "output_type": "display_data"
    },
    {
     "name": "stdin",
     "output_type": "stream",
     "text": [
      "select tile to discard:  13\n"
     ]
    },
    {
     "ename": "IndexError",
     "evalue": "list index out of range",
     "output_type": "error",
     "traceback": [
      "\u001b[0;31m---------------------------------------------------------------------------\u001b[0m",
      "\u001b[0;31mIndexError\u001b[0m                                Traceback (most recent call last)",
      "\u001b[0;32m/var/folders/q_/kjfqpv9x6yn1mmjwphl_yzz00000gn/T/ipykernel_3204/1329439445.py\u001b[0m in \u001b[0;36m<module>\u001b[0;34m\u001b[0m\n\u001b[1;32m      5\u001b[0m     \u001b[0mplayer1\u001b[0m\u001b[0;34m.\u001b[0m\u001b[0mshow\u001b[0m\u001b[0;34m(\u001b[0m\u001b[0;34m)\u001b[0m\u001b[0;34m\u001b[0m\u001b[0;34m\u001b[0m\u001b[0m\n\u001b[1;32m      6\u001b[0m     \u001b[0mkill\u001b[0m\u001b[0;34m=\u001b[0m\u001b[0mint\u001b[0m\u001b[0;34m(\u001b[0m\u001b[0minput\u001b[0m\u001b[0;34m(\u001b[0m\u001b[0;34m'select tile to discard: '\u001b[0m\u001b[0;34m)\u001b[0m\u001b[0;34m)\u001b[0m\u001b[0;34m\u001b[0m\u001b[0;34m\u001b[0m\u001b[0m\n\u001b[0;32m----> 7\u001b[0;31m     \u001b[0mb\u001b[0m\u001b[0;34m.\u001b[0m\u001b[0mdiscard\u001b[0m\u001b[0;34m(\u001b[0m\u001b[0mplayer1\u001b[0m\u001b[0;34m.\u001b[0m\u001b[0mdiscard\u001b[0m\u001b[0;34m(\u001b[0m\u001b[0mkill\u001b[0m\u001b[0;34m)\u001b[0m\u001b[0;34m)\u001b[0m\u001b[0;34m\u001b[0m\u001b[0;34m\u001b[0m\u001b[0m\n\u001b[0m\u001b[1;32m      8\u001b[0m     \u001b[0mplayer1\u001b[0m\u001b[0;34m.\u001b[0m\u001b[0mpick\u001b[0m\u001b[0;34m(\u001b[0m\u001b[0mb\u001b[0m\u001b[0;34m.\u001b[0m\u001b[0mextract\u001b[0m\u001b[0;34m(\u001b[0m\u001b[0;34m)\u001b[0m\u001b[0;34m)\u001b[0m\u001b[0;34m\u001b[0m\u001b[0;34m\u001b[0m\u001b[0m\n\u001b[1;32m      9\u001b[0m     \u001b[0mclear_output\u001b[0m\u001b[0;34m(\u001b[0m\u001b[0mwait\u001b[0m\u001b[0;34m=\u001b[0m\u001b[0;32mTrue\u001b[0m\u001b[0;34m)\u001b[0m\u001b[0;34m\u001b[0m\u001b[0;34m\u001b[0m\u001b[0m\n",
      "\u001b[0;32m/var/folders/q_/kjfqpv9x6yn1mmjwphl_yzz00000gn/T/ipykernel_3204/84163211.py\u001b[0m in \u001b[0;36mdiscard\u001b[0;34m(self, index)\u001b[0m\n\u001b[1;32m     21\u001b[0m         \u001b[0mself\u001b[0m\u001b[0;34m.\u001b[0m\u001b[0mtreasures\u001b[0m\u001b[0;34m=\u001b[0m\u001b[0;34m[\u001b[0m\u001b[0;34m]\u001b[0m\u001b[0;34m\u001b[0m\u001b[0;34m\u001b[0m\u001b[0m\n\u001b[1;32m     22\u001b[0m     \u001b[0;32mdef\u001b[0m \u001b[0mdiscard\u001b[0m\u001b[0;34m(\u001b[0m\u001b[0mself\u001b[0m\u001b[0;34m,\u001b[0m\u001b[0mindex\u001b[0m\u001b[0;34m)\u001b[0m\u001b[0;34m:\u001b[0m\u001b[0;34m\u001b[0m\u001b[0;34m\u001b[0m\u001b[0m\n\u001b[0;32m---> 23\u001b[0;31m         \u001b[0mr\u001b[0m\u001b[0;34m=\u001b[0m\u001b[0mself\u001b[0m\u001b[0;34m.\u001b[0m\u001b[0mtiles\u001b[0m\u001b[0;34m[\u001b[0m\u001b[0mindex\u001b[0m\u001b[0;34m]\u001b[0m\u001b[0;34m\u001b[0m\u001b[0;34m\u001b[0m\u001b[0m\n\u001b[0m\u001b[1;32m     24\u001b[0m         \u001b[0;32mdel\u001b[0m\u001b[0;34m(\u001b[0m\u001b[0mself\u001b[0m\u001b[0;34m.\u001b[0m\u001b[0mtiles\u001b[0m\u001b[0;34m[\u001b[0m\u001b[0mindex\u001b[0m\u001b[0;34m]\u001b[0m\u001b[0;34m)\u001b[0m\u001b[0;34m\u001b[0m\u001b[0;34m\u001b[0m\u001b[0m\n\u001b[1;32m     25\u001b[0m         \u001b[0;32mreturn\u001b[0m \u001b[0mr\u001b[0m\u001b[0;34m\u001b[0m\u001b[0;34m\u001b[0m\u001b[0m\n",
      "\u001b[0;31mIndexError\u001b[0m: list index out of range"
     ]
    }
   ],
   "source": [
    "while b.remaining()>0:\n",
    "    print ('discarded:')\n",
    "    b.showDiscarded()\n",
    "    print ('your hand:')\n",
    "    player1.show()\n",
    "    kill=int(input('select tile to discard: '))\n",
    "    b.discard(player1.discard(kill))\n",
    "    player1.pick(b.extract())\n",
    "    clear_output(wait=True)"
   ]
  },
  {
   "cell_type": "code",
   "execution_count": null,
   "id": "854cd133-d1ec-4912-b46a-1de8ae7168f4",
   "metadata": {},
   "outputs": [],
   "source": []
  },
  {
   "cell_type": "code",
   "execution_count": 147,
   "id": "41f3ce6e-abcd-464e-878f-5f78cf8ab082",
   "metadata": {},
   "outputs": [
    {
     "data": {
      "text/plain": [
       "True"
      ]
     },
     "execution_count": 147,
     "metadata": {},
     "output_type": "execute_result"
    }
   ],
   "source": [
    "player1.discard(12)"
   ]
  },
  {
   "cell_type": "code",
   "execution_count": 118,
   "id": "3d271885-00bb-45a7-81c1-dc5a3397d0c1",
   "metadata": {},
   "outputs": [
    {
     "data": {
      "text/html": [
       "<span style=\"font-size: 40px;\"></span>"
      ],
      "text/plain": [
       "<IPython.core.display.HTML object>"
      ]
     },
     "metadata": {},
     "output_type": "display_data"
    },
    {
     "data": {
      "text/html": [
       "<span style=\"font-size: 40px;\">&#x1F000 &#x1F007 &#x1F007 &#x1F00D &#x1F00E &#x1F010 &#x1F011 &#x1F018 &#x1F01A &#x1F01B &#x1F01B &#x1F020 &#x1F021 </span>"
      ],
      "text/plain": [
       "<IPython.core.display.HTML object>"
      ]
     },
     "metadata": {},
     "output_type": "display_data"
    }
   ],
   "source": [
    "player1.show()"
   ]
  },
  {
   "cell_type": "code",
   "execution_count": 112,
   "id": "38e11d1c-7bb9-42c6-9465-c95011a790bd",
   "metadata": {},
   "outputs": [],
   "source": [
    "player1.pick(b.extract())"
   ]
  },
  {
   "cell_type": "code",
   "execution_count": 113,
   "id": "18dfcf9f-f4ae-4a0a-9d67-85663d443733",
   "metadata": {},
   "outputs": [
    {
     "data": {
      "text/html": [
       "<span style=\"font-size: 40px;\"></span>"
      ],
      "text/plain": [
       "<IPython.core.display.HTML object>"
      ]
     },
     "metadata": {},
     "output_type": "display_data"
    },
    {
     "data": {
      "text/html": [
       "<span style=\"font-size: 40px;\">&#x1F005 &#x1F006 &#x1F001 &#x1F00E &#x1F00E &#x1F012 &#x1F013 &#x1F014 &#x1F017 &#x1F01B &#x1F01C &#x1F01D &#x1F01D &#x1F01E </span>"
      ],
      "text/plain": [
       "<IPython.core.display.HTML object>"
      ]
     },
     "metadata": {},
     "output_type": "display_data"
    }
   ],
   "source": [
    "player1.show()"
   ]
  },
  {
   "cell_type": "code",
   "execution_count": 114,
   "id": "e3c80ea2-77b3-4bb1-8cca-b5f7506bc4f4",
   "metadata": {},
   "outputs": [
    {
     "ename": "AttributeError",
     "evalue": "'heap' object has no attribute 'dis'",
     "output_type": "error",
     "traceback": [
      "\u001b[0;31m---------------------------------------------------------------------------\u001b[0m",
      "\u001b[0;31mAttributeError\u001b[0m                            Traceback (most recent call last)",
      "\u001b[0;32m/var/folders/q_/kjfqpv9x6yn1mmjwphl_yzz00000gn/T/ipykernel_3204/3489142704.py\u001b[0m in \u001b[0;36m<module>\u001b[0;34m\u001b[0m\n\u001b[0;32m----> 1\u001b[0;31m \u001b[0mb\u001b[0m\u001b[0;34m.\u001b[0m\u001b[0mshowDiscarded\u001b[0m\u001b[0;34m(\u001b[0m\u001b[0;34m)\u001b[0m\u001b[0;34m\u001b[0m\u001b[0;34m\u001b[0m\u001b[0m\n\u001b[0m",
      "\u001b[0;32m/var/folders/q_/kjfqpv9x6yn1mmjwphl_yzz00000gn/T/ipykernel_3204/2998077970.py\u001b[0m in \u001b[0;36mshowDiscarded\u001b[0;34m(self)\u001b[0m\n\u001b[1;32m     71\u001b[0m     \u001b[0;32mdef\u001b[0m \u001b[0mshowDiscarded\u001b[0m\u001b[0;34m(\u001b[0m\u001b[0mself\u001b[0m\u001b[0;34m)\u001b[0m\u001b[0;34m:\u001b[0m\u001b[0;34m\u001b[0m\u001b[0;34m\u001b[0m\u001b[0m\n\u001b[1;32m     72\u001b[0m         \u001b[0mtileDisplay\u001b[0m\u001b[0;34m=\u001b[0m\u001b[0;34m''\u001b[0m\u001b[0;34m\u001b[0m\u001b[0;34m\u001b[0m\u001b[0m\n\u001b[0;32m---> 73\u001b[0;31m         \u001b[0;32mfor\u001b[0m \u001b[0mx\u001b[0m \u001b[0;32min\u001b[0m \u001b[0mself\u001b[0m\u001b[0;34m.\u001b[0m\u001b[0mdis\u001b[0m\u001b[0;34m:\u001b[0m\u001b[0;34m\u001b[0m\u001b[0;34m\u001b[0m\u001b[0m\n\u001b[0m\u001b[1;32m     74\u001b[0m             \u001b[0mtileDisplay\u001b[0m\u001b[0;34m+=\u001b[0m\u001b[0mx\u001b[0m\u001b[0;34m.\u001b[0m\u001b[0msymbol\u001b[0m\u001b[0;34m+\u001b[0m\u001b[0;34m' '\u001b[0m\u001b[0;34m\u001b[0m\u001b[0;34m\u001b[0m\u001b[0m\n\u001b[1;32m     75\u001b[0m         \u001b[0mdisplay\u001b[0m \u001b[0;34m(\u001b[0m\u001b[0mHTML\u001b[0m\u001b[0;34m(\u001b[0m\u001b[0;34mf'<span style=\"font-size: 40px;\">{tileDisplay}</span>'\u001b[0m\u001b[0;34m)\u001b[0m\u001b[0;34m)\u001b[0m\u001b[0;34m\u001b[0m\u001b[0;34m\u001b[0m\u001b[0m\n",
      "\u001b[0;31mAttributeError\u001b[0m: 'heap' object has no attribute 'dis'"
     ]
    }
   ],
   "source": [
    "b.showDiscarded()"
   ]
  },
  {
   "cell_type": "code",
   "execution_count": 5,
   "id": "89d9198e-f9c6-45e7-bbd2-dffd2f295e29",
   "metadata": {},
   "outputs": [],
   "source": [
    "pungs=[(x,y,z) for x in range(1,10) for y in range(1,10) for z in range(1,10) if x==y==z]"
   ]
  },
  {
   "cell_type": "code",
   "execution_count": 6,
   "id": "f3a4af84-42e1-49ce-8ce4-75c01b6576c7",
   "metadata": {},
   "outputs": [],
   "source": [
    "kongs=[(x,y,z,k) for x in range(1,10) for y in range(1,10) for z in range(1,10) for k in range(1,10) if x==y==z==k]"
   ]
  },
  {
   "cell_type": "code",
   "execution_count": 7,
   "id": "7b8e9823-d7f6-47ec-b4c1-220439c787bb",
   "metadata": {},
   "outputs": [],
   "source": [
    "chows=[(x,y,z) for x in range(1,10) for y in range(1,10) for z in range(1,10) if ((y==x+1)and (z==y+1))]"
   ]
  },
  {
   "cell_type": "code",
   "execution_count": 8,
   "id": "19653ebe-0ced-4fe2-86e2-854ad7535be2",
   "metadata": {},
   "outputs": [
    {
     "data": {
      "text/plain": [
       "[(1, 2, 3), (2, 3, 4), (3, 4, 5), (4, 5, 6), (5, 6, 7), (6, 7, 8), (7, 8, 9)]"
      ]
     },
     "execution_count": 8,
     "metadata": {},
     "output_type": "execute_result"
    }
   ],
   "source": [
    "chows"
   ]
  },
  {
   "cell_type": "code",
   "execution_count": 9,
   "id": "519db536-e811-478c-add6-a95d8258db79",
   "metadata": {},
   "outputs": [
    {
     "data": {
      "text/plain": [
       "[(1, 1, 1),\n",
       " (2, 2, 2),\n",
       " (3, 3, 3),\n",
       " (4, 4, 4),\n",
       " (5, 5, 5),\n",
       " (6, 6, 6),\n",
       " (7, 7, 7),\n",
       " (8, 8, 8),\n",
       " (9, 9, 9)]"
      ]
     },
     "execution_count": 9,
     "metadata": {},
     "output_type": "execute_result"
    }
   ],
   "source": [
    "pungs"
   ]
  },
  {
   "cell_type": "code",
   "execution_count": 10,
   "id": "6062ea62-d493-4c88-bcd4-57fe3462f2d8",
   "metadata": {},
   "outputs": [],
   "source": [
    "couples=[(x,y) for x in range(1,10) for y in range(1,10) if x==y]"
   ]
  },
  {
   "cell_type": "code",
   "execution_count": 11,
   "id": "f990af0d-e6f8-4013-b15b-dfd62dd7fa56",
   "metadata": {},
   "outputs": [
    {
     "data": {
      "text/plain": [
       "[(1, 1), (2, 2), (3, 3), (4, 4), (5, 5), (6, 6), (7, 7), (8, 8), (9, 9)]"
      ]
     },
     "execution_count": 11,
     "metadata": {},
     "output_type": "execute_result"
    }
   ],
   "source": [
    "couples"
   ]
  },
  {
   "cell_type": "code",
   "execution_count": 12,
   "id": "a5dc8e67-ce23-4418-8a72-36bdd633a532",
   "metadata": {},
   "outputs": [],
   "source": [
    "sequences=pungs+couples+chows+kongs"
   ]
  },
  {
   "cell_type": "code",
   "execution_count": 13,
   "id": "0240bf22-a492-4599-8c5e-50ad2c2f87cc",
   "metadata": {},
   "outputs": [
    {
     "data": {
      "text/plain": [
       "[(1, 1, 1),\n",
       " (2, 2, 2),\n",
       " (3, 3, 3),\n",
       " (4, 4, 4),\n",
       " (5, 5, 5),\n",
       " (6, 6, 6),\n",
       " (7, 7, 7),\n",
       " (8, 8, 8),\n",
       " (9, 9, 9),\n",
       " (1, 1),\n",
       " (2, 2),\n",
       " (3, 3),\n",
       " (4, 4),\n",
       " (5, 5),\n",
       " (6, 6),\n",
       " (7, 7),\n",
       " (8, 8),\n",
       " (9, 9),\n",
       " (1, 2, 3),\n",
       " (2, 3, 4),\n",
       " (3, 4, 5),\n",
       " (4, 5, 6),\n",
       " (5, 6, 7),\n",
       " (6, 7, 8),\n",
       " (7, 8, 9),\n",
       " (1, 1, 1, 1),\n",
       " (2, 2, 2, 2),\n",
       " (3, 3, 3, 3),\n",
       " (4, 4, 4, 4),\n",
       " (5, 5, 5, 5),\n",
       " (6, 6, 6, 6),\n",
       " (7, 7, 7, 7),\n",
       " (8, 8, 8, 8),\n",
       " (9, 9, 9, 9)]"
      ]
     },
     "execution_count": 13,
     "metadata": {},
     "output_type": "execute_result"
    }
   ],
   "source": [
    "sequences"
   ]
  },
  {
   "cell_type": "code",
   "execution_count": 14,
   "id": "5a54bb6c-9209-4936-897e-812daf7946f4",
   "metadata": {},
   "outputs": [],
   "source": [
    "import random"
   ]
  },
  {
   "cell_type": "code",
   "execution_count": 24,
   "id": "ed5d3e47-a921-4e6e-a889-3b3ffcbb7c59",
   "metadata": {},
   "outputs": [
    {
     "data": {
      "text/plain": [
       "(7, 7, 3, 4, 5, 7, 7, 7, 2, 3, 4, 9, 9, 4, 4, 4)"
      ]
     },
     "execution_count": 24,
     "metadata": {},
     "output_type": "execute_result"
    }
   ],
   "source": [
    "x=random.sample(sequences,6)\n",
    "c=()\n",
    "for m in x:\n",
    "    c+=m"
   ]
  },
  {
   "cell_type": "code",
   "execution_count": 23,
   "id": "6abefeb8-e6a9-44bb-b29d-ed1b8405371b",
   "metadata": {},
   "outputs": [
    {
     "data": {
      "text/plain": [
       "[2, 3, 5, 6, 8, 9, 11, 12, 14]"
      ]
     },
     "execution_count": 23,
     "metadata": {},
     "output_type": "execute_result"
    }
   ],
   "source": [
    "# il mix possibile delle seq di mahjonh e' dato da una o 0 coppie + sequenza di pung e chows\n",
    "# se tot%3==0\n",
    "[x for x in range (2,15) if (x%3==0) or (x%3==2)]"
   ]
  },
  {
   "cell_type": "code",
   "execution_count": 50,
   "id": "edef1409-02eb-4f7b-a666-5fa3786356ba",
   "metadata": {},
   "outputs": [],
   "source": [
    "#sequenziamento possibile: sorting base + sorting a scale\n",
    "import random\n",
    "possible=list(range(1,10))*4\n",
    "a=random.sample(possible,12)\n",
    "a.sort()"
   ]
  },
  {
   "cell_type": "code",
   "execution_count": 58,
   "id": "65017d97-c88c-4ea0-86a7-67c7eb1a32e5",
   "metadata": {},
   "outputs": [],
   "source": [
    "a=[1,1,2,2,3,3,4,4]"
   ]
  },
  {
   "cell_type": "code",
   "execution_count": 57,
   "id": "5799282a-166a-4515-a0e6-4ed69389af73",
   "metadata": {},
   "outputs": [
    {
     "data": {
      "text/plain": [
       "4"
      ]
     },
     "execution_count": 57,
     "metadata": {},
     "output_type": "execute_result"
    }
   ],
   "source": [
    "a.index(3)"
   ]
  },
  {
   "cell_type": "code",
   "execution_count": 82,
   "id": "b5b3bf15-7d54-43f1-ab89-c5b0ced9b151",
   "metadata": {},
   "outputs": [],
   "source": [
    "def chowSort(inputSequence):\n",
    "    app=[]\n",
    "    while len(a):\n",
    "        if ((a[0]+1) in a) and ((a[0]+2) in a):\n",
    "            app.append(a[0])\n",
    "            app.append(a[a.index(a[0]+1)])\n",
    "            app.append(a[a.index(a[0]+2)])\n",
    "            del a[a.index(a[0]+1)]\n",
    "            del a[a.index(a[0]+2)]\n",
    "            del a[0]\n",
    "        else:\n",
    "            app.append(a[0])\n",
    "            del a[0]\n",
    "    return app\n",
    "        \n"
   ]
  },
  {
   "cell_type": "code",
   "execution_count": 98,
   "id": "34c78c13-6be1-45f0-8778-3e78b0a03c34",
   "metadata": {},
   "outputs": [],
   "source": [
    "def control(inputSequence,c=False):   \n",
    "    a=inputSequence.copy()\n",
    "    while len(a)>=3:\n",
    "        if a[0]+1==a[1] and a[1]+1==a[2]:\n",
    "            a=a[3:]\n",
    "        elif a[0]==a[1]==a[2]:\n",
    "            a=a[3:]\n",
    "        elif (a[0]==a[1]) and (a[0]!=a[2]) and (not c):\n",
    "            a=a[2:]\n",
    "            c=True\n",
    "        else:\n",
    "            return False\n",
    "    if (len(a)==2) and (a[0]==a[1]) and (not c):\n",
    "            a=a[2:]\n",
    "    if len(a)==0:\n",
    "        return True\n",
    "    else:\n",
    "        return False\n",
    "        "
   ]
  },
  {
   "cell_type": "code",
   "execution_count": 79,
   "id": "35df429f-08e6-4721-9c33-abd329227bc9",
   "metadata": {},
   "outputs": [
    {
     "name": "stdout",
     "output_type": "stream",
     "text": [
      "true chow\n",
      "true chow\n",
      "true couple\n",
      "true couple\n"
     ]
    },
    {
     "data": {
      "text/plain": [
       "True"
      ]
     },
     "execution_count": 79,
     "metadata": {},
     "output_type": "execute_result"
    }
   ],
   "source": [
    "control(a+[9,9])\n"
   ]
  },
  {
   "cell_type": "code",
   "execution_count": 75,
   "id": "d616207d-5d12-4a54-9649-7a61809531f7",
   "metadata": {},
   "outputs": [
    {
     "data": {
      "text/plain": [
       "[1, 2, 3, 1, 2, 3, 4, 4, 9, 9, 9]"
      ]
     },
     "execution_count": 75,
     "metadata": {},
     "output_type": "execute_result"
    }
   ],
   "source": [
    "a+[9,9,9]"
   ]
  },
  {
   "cell_type": "code",
   "execution_count": 88,
   "id": "e647e055-52e3-44b5-9504-c9c2e29736e3",
   "metadata": {},
   "outputs": [
    {
     "name": "stdout",
     "output_type": "stream",
     "text": [
      "[1, 2, 3, 4, 5, 6, 5, 6, 7, 5, 5, 7, 8, 9]\n"
     ]
    }
   ],
   "source": [
    "for i in range(10):\n",
    "    a=random.sample(possible,14)\n",
    "    a.sort()\n",
    "    if control(a):\n",
    "        print(a)\n",
    "    a=chowSort(a)\n",
    "    if control(a):\n",
    "        print(a)\n",
    "    "
   ]
  },
  {
   "cell_type": "code",
   "execution_count": 106,
   "id": "210bd5cb-d910-4999-95e7-9cbff6b87f30",
   "metadata": {},
   "outputs": [
    {
     "name": "stdout",
     "output_type": "stream",
     "text": [
      "true\n"
     ]
    }
   ],
   "source": [
    "a=[1,2,3,1,2,3,8,8]\n",
    "if not control(a):\n",
    "    print(control(chowSort(a)))\n",
    "else:\n",
    "    print ('true')\n"
   ]
  },
  {
   "cell_type": "code",
   "execution_count": 2,
   "id": "f8c07b70-2283-4ef2-922c-3b3542f1f34d",
   "metadata": {},
   "outputs": [],
   "source": [
    "def seqRemover(seq):\n",
    "    a=seq.copy()\n",
    "    i=0\n",
    "    while len(a) and i<len(a)-2:\n",
    "        x=a[i]\n",
    "        if a.count(x+1) and a.count(x+2):\n",
    "            chowindex=[]\n",
    "            #print ('chow:',x,x+1,x+2)\n",
    "            chowindex.append(x)\n",
    "            chowindex.append(x+1)\n",
    "            chowindex.append(x+2)\n",
    "            for m in chowindex:\n",
    "                a.remove(m)\n",
    "        else:\n",
    "            i+=1\n",
    "    i=0\n",
    "    while len(a) and i<len(a)-3:\n",
    "        if a[i]==a[i+1]==a[i+2]==a[i+3]:\n",
    "            #print('kong')\n",
    "            del a[i:i+4]\n",
    "        else:\n",
    "            i+=1\n",
    "    i=0\n",
    "    while len(a) and i<len(a)-2:\n",
    "        if a[i]==a[i+1]==a[i+2]:\n",
    "            #print('pung')\n",
    "            del a[i:i+3]\n",
    "        else:\n",
    "            i+=1\n",
    "    return a\n"
   ]
  },
  {
   "cell_type": "code",
   "execution_count": 3,
   "id": "747b7395-4187-4a02-a0e7-f9893e651125",
   "metadata": {},
   "outputs": [
    {
     "data": {
      "text/plain": [
       "[]"
      ]
     },
     "execution_count": 3,
     "metadata": {},
     "output_type": "execute_result"
    }
   ],
   "source": [
    "a=[1,2,3,1,2,3,4,4,4,4,7,7,8,8,9,9]\n",
    "a.sort()\n",
    "seqRemover(a)"
   ]
  },
  {
   "cell_type": "code",
   "execution_count": 26,
   "id": "7f06995d-4d32-4e0e-a4f8-435c970f8ead",
   "metadata": {},
   "outputs": [],
   "source": [
    "x=random.sample(sequences,6)\n",
    "c=[]\n",
    "for m in x:\n",
    "    c+=m\n",
    "f=seqRemover(c)\n",
    "if len(f)==2:\n",
    "    print (f)"
   ]
  },
  {
   "cell_type": "code",
   "execution_count": 29,
   "id": "608773bb-5e3b-41ea-ac53-75a8c4a712bc",
   "metadata": {},
   "outputs": [
    {
     "name": "stdout",
     "output_type": "stream",
     "text": [
      "[1, 1, 1, 2, 2, 2, 2, 2, 3, 4, 5, 6, 6, 6, 6, 7, 8, 9]\n",
      "[1, 1, 1, 1, 3, 4, 4, 5, 5, 6, 6, 6, 7, 7, 7, 7, 9, 9, 9]\n",
      "[1, 1, 2, 2, 2, 2, 3, 4, 6, 6, 6, 8, 8, 8, 9, 9, 9, 9]\n",
      "[3, 4, 4, 4, 4, 5, 6, 6, 6, 7, 7, 7, 9, 9, 9, 9, 9, 9]\n",
      "[3, 4, 4, 4, 4, 4, 4, 4, 4, 5, 7, 7, 7, 7, 7, 7, 7, 7, 7]\n",
      "[1, 1, 2, 2, 2, 5, 5, 5, 7, 7, 7, 7, 7, 8, 9, 9, 9, 9, 9]\n",
      "[1, 2, 3, 3, 3, 3, 5, 5, 8, 8, 8, 9, 9, 9, 9, 9, 9, 9]\n",
      "[2, 2, 2, 2, 2, 2, 2, 3, 3, 5, 5, 5, 5, 6, 7, 9, 9, 9]\n",
      "[1, 1, 1, 1, 2, 3, 4, 4, 4, 4, 7, 7, 7, 7, 8, 8, 8, 9]\n",
      "[1, 1, 1, 1, 2, 2, 2, 4, 4, 4, 4, 4, 5, 6, 6, 6, 6, 7, 8]\n",
      "[1, 1, 1, 2, 2, 2, 4, 4, 5, 5, 5, 5, 8, 8, 8, 8, 9, 9, 9]\n",
      "[2, 2, 2, 2, 4, 4, 4, 4, 4, 4, 5, 5, 5, 5, 5, 6, 7, 9, 9, 9, 9]\n",
      "[2, 3, 3, 3, 3, 3, 3, 3, 3, 4, 4, 4, 4, 7, 7, 9, 9, 9]\n",
      "[1, 2, 2, 3, 3, 4, 6, 7, 7, 8, 8, 9, 9, 9, 9, 9, 9, 9]\n",
      "[2, 3, 3, 3, 3, 4, 4, 4, 4, 4, 7, 7, 7, 7, 7, 7, 7, 8, 9]\n",
      "[2, 2, 2, 2, 3, 3, 4, 4, 4, 4, 4, 5, 8, 8, 8, 8, 8, 8]\n",
      "[1, 1, 1, 1, 1, 1, 1, 1, 2, 3, 3, 3, 5, 6, 7, 7, 7, 7, 7]\n",
      "[1, 1, 1, 2, 3, 3, 3, 3, 3, 4, 4, 4, 4, 6, 6, 6, 6, 8, 8, 8]\n",
      "[2, 2, 2, 2, 5, 5, 5, 5, 5, 5, 5, 7, 7, 7, 8, 8, 8, 8, 8, 8]\n",
      "[1, 1, 1, 1, 1, 1, 2, 2, 2, 2, 2, 3, 4, 5, 5, 5, 7, 7, 7, 7]\n",
      "[1, 2, 3, 4, 4, 4, 4, 5, 5, 5, 5, 6, 6, 6, 6, 7, 7, 7, 8, 9]\n",
      "[2, 2, 2, 2, 2, 2, 2, 2, 3, 3, 3, 3, 4, 4, 5, 8, 8, 8]\n",
      "[1, 1, 1, 1, 4, 4, 4, 4, 5, 5, 5, 5, 5, 5, 5, 8, 8, 9, 9, 9, 9]\n"
     ]
    }
   ],
   "source": [
    "for x in range(100):\n",
    "    x=random.sample(sequences,6)\n",
    "    c=[]\n",
    "    for m in x:\n",
    "        c+=m\n",
    "    f=seqRemover(c)\n",
    "    if len(f)==2:\n",
    "        print (sorted(c))"
   ]
  },
  {
   "cell_type": "code",
   "execution_count": null,
   "id": "81237c32-e0e8-4ad2-be39-d2729308c97e",
   "metadata": {},
   "outputs": [],
   "source": []
  }
 ],
 "metadata": {
  "kernelspec": {
   "display_name": "Python 3 (ipykernel)",
   "language": "python",
   "name": "python3"
  },
  "language_info": {
   "codemirror_mode": {
    "name": "ipython",
    "version": 3
   },
   "file_extension": ".py",
   "mimetype": "text/x-python",
   "name": "python",
   "nbconvert_exporter": "python",
   "pygments_lexer": "ipython3",
   "version": "3.9.7"
  }
 },
 "nbformat": 4,
 "nbformat_minor": 5
}
