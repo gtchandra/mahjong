{
 "cells": [
  {
   "cell_type": "code",
   "execution_count": 29,
   "id": "4d8bda24-e112-47f7-8877-83b1462a589b",
   "metadata": {},
   "outputs": [],
   "source": [
    "a=[1,3,4,5,7,7,8,3,4,4,4,7]\n",
    "a.sort()"
   ]
  },
  {
   "cell_type": "code",
   "execution_count": 18,
   "id": "11ccd5a2-e2d8-4be8-9cd4-029224a15608",
   "metadata": {},
   "outputs": [
    {
     "data": {
      "text/plain": [
       "[1, 3, 3, 4, 4, 4, 4, 5, 7, 7, 7, 8]"
      ]
     },
     "execution_count": 18,
     "metadata": {},
     "output_type": "execute_result"
    }
   ],
   "source": [
    "a"
   ]
  },
  {
   "cell_type": "code",
   "execution_count": 6,
   "id": "39e9fc7e-fea3-47dd-b0ad-f2ae1ecb334d",
   "metadata": {},
   "outputs": [
    {
     "data": {
      "text/plain": [
       "[1, 2, 1, 1, 3, 3, 1, 2, 3]"
      ]
     },
     "execution_count": 6,
     "metadata": {},
     "output_type": "execute_result"
    }
   ],
   "source": [
    "[a.count(x) for x in a]"
   ]
  },
  {
   "cell_type": "code",
   "execution_count": 16,
   "id": "c7db46f2-d68c-41b6-a27f-2eae34fcd0de",
   "metadata": {},
   "outputs": [],
   "source": [
    "b=set([a.index(x) for x in a if a.count(x)>=3])"
   ]
  },
  {
   "cell_type": "code",
   "execution_count": 17,
   "id": "2314154f-c3c5-468a-9aef-bbd5a5b20218",
   "metadata": {},
   "outputs": [
    {
     "data": {
      "text/plain": [
       "{3, 8}"
      ]
     },
     "execution_count": 17,
     "metadata": {},
     "output_type": "execute_result"
    }
   ],
   "source": [
    "b"
   ]
  },
  {
   "cell_type": "code",
   "execution_count": 21,
   "id": "7cdb72a2-055b-4290-bc0d-f5f9c748edea",
   "metadata": {},
   "outputs": [
    {
     "data": {
      "text/plain": [
       "[1, 3, 3, 4, 4, 4, 4, 5, 7, 7, 7, 8]"
      ]
     },
     "execution_count": 21,
     "metadata": {},
     "output_type": "execute_result"
    }
   ],
   "source": [
    "a"
   ]
  },
  {
   "cell_type": "code",
   "execution_count": 20,
   "id": "eb1089bd-bd1f-4414-8f14-e3fcc56382ea",
   "metadata": {},
   "outputs": [
    {
     "data": {
      "text/plain": [
       "[1, 3, 3, 4, 4, 4, 4, 5, 7]"
      ]
     },
     "execution_count": 20,
     "metadata": {},
     "output_type": "execute_result"
    }
   ],
   "source": [
    "[x for x in a[:-3] if (x+1)==a[]]"
   ]
  },
  {
   "cell_type": "code",
   "execution_count": 130,
   "id": "ebe06da6-5cb2-4014-a616-e190dce48031",
   "metadata": {},
   "outputs": [],
   "source": [
    "def seqRemover(seq):\n",
    "    a=seq.copy()\n",
    "    i=0\n",
    "    while len(a) and i<len(a)-2:\n",
    "        x=a[i]\n",
    "        if a.count(x+1) and a.count(x+2):\n",
    "            chowindex=[]\n",
    "            #print ('chow:',x,x+1,x+2)\n",
    "            chowindex.append(x)\n",
    "            chowindex.append(x+1)\n",
    "            chowindex.append(x+2)\n",
    "            for m in chowindex:\n",
    "                a.remove(m)\n",
    "        else:\n",
    "            i+=1\n",
    "    i=0\n",
    "    while len(a) and i<len(a)-3:\n",
    "        if a[i]==a[i+1]==a[i+2]==a[i+3]:\n",
    "            #print('kong')\n",
    "            del a[i:i+4]\n",
    "        else:\n",
    "            i+=1\n",
    "    i=0\n",
    "    while len(a) and i<len(a)-2:\n",
    "        if a[i]==a[i+1]==a[i+2]:\n",
    "            #print('pung')\n",
    "            del a[i:i+3]\n",
    "        else:\n",
    "            i+=1\n",
    "    return a\n",
    "\n",
    "        "
   ]
  },
  {
   "cell_type": "code",
   "execution_count": 131,
   "id": "5f5a3887-7d7f-4bcc-b5d8-38871db1a941",
   "metadata": {},
   "outputs": [
    {
     "data": {
      "text/plain": [
       "[1, 2, 3, 4, 4, 4, 4, 7, 7, 7, 8, 8, 9, 9, 9]"
      ]
     },
     "execution_count": 131,
     "metadata": {},
     "output_type": "execute_result"
    }
   ],
   "source": [
    "a=[1,3,2,4,7,7,8,8,4,4,4,7,9,9,9]\n",
    "a.sort()\n",
    "a"
   ]
  },
  {
   "cell_type": "code",
   "execution_count": 132,
   "id": "de7d0d59-54d3-45a7-9514-084d0a707728",
   "metadata": {},
   "outputs": [
    {
     "data": {
      "text/plain": [
       "[7, 9]"
      ]
     },
     "execution_count": 132,
     "metadata": {},
     "output_type": "execute_result"
    }
   ],
   "source": [
    "seqRemover(a)"
   ]
  },
  {
   "cell_type": "code",
   "execution_count": 133,
   "id": "928dbc8d-abb2-45de-921c-d2b0554083d0",
   "metadata": {},
   "outputs": [
    {
     "data": {
      "text/plain": [
       "([1, 1, 2, 2, 3, 3, 3, 4, 4, 4, 4, 7, 7, 7, 8, 8, 9, 9, 9], 19)"
      ]
     },
     "execution_count": 133,
     "metadata": {},
     "output_type": "execute_result"
    }
   ],
   "source": [
    "a=[1,1,2,2,3,3,3,4,7,7,8,8,4,4,4,7,9,9,9]\n",
    "a.sort()\n",
    "a, len(a)"
   ]
  },
  {
   "cell_type": "code",
   "execution_count": 135,
   "id": "f9b06ad8-34f7-4486-9c1c-a43db926d663",
   "metadata": {},
   "outputs": [
    {
     "data": {
      "text/plain": [
       "[3, 7, 9]"
      ]
     },
     "execution_count": 135,
     "metadata": {},
     "output_type": "execute_result"
    }
   ],
   "source": [
    "seqRemover(a)"
   ]
  },
  {
   "cell_type": "code",
   "execution_count": 137,
   "id": "c2b50aa9-f40b-45e9-a028-5b70b92bad16",
   "metadata": {},
   "outputs": [
    {
     "data": {
      "text/plain": [
       "[]"
      ]
     },
     "execution_count": 137,
     "metadata": {},
     "output_type": "execute_result"
    }
   ],
   "source": [
    "a=[1,2,3,1,2,3,4,4,4,4,7,7,8,8,9,9]\n",
    "a.sort()\n",
    "seqRemover(a)"
   ]
  },
  {
   "cell_type": "code",
   "execution_count": 113,
   "id": "e1a09f46-a8bc-4bce-a5f8-5a39516201aa",
   "metadata": {},
   "outputs": [
    {
     "data": {
      "text/plain": [
       "[1, 1, 2, 2, 3, 3, 3, 4, 5]"
      ]
     },
     "execution_count": 113,
     "metadata": {},
     "output_type": "execute_result"
    }
   ],
   "source": [
    "a=[1,2,3,1,2,3,3,4,5]\n",
    "a.sort()\n",
    "a\n"
   ]
  },
  {
   "cell_type": "code",
   "execution_count": 114,
   "id": "4601b3c9-631b-476e-84ea-3f4b259b193f",
   "metadata": {},
   "outputs": [
    {
     "name": "stdout",
     "output_type": "stream",
     "text": [
      "chow\n",
      "chow\n",
      "chow\n"
     ]
    },
    {
     "data": {
      "text/plain": [
       "[]"
      ]
     },
     "execution_count": 114,
     "metadata": {},
     "output_type": "execute_result"
    }
   ],
   "source": [
    "seqRemover(a)"
   ]
  },
  {
   "cell_type": "code",
   "execution_count": null,
   "id": "441f72eb-5b5e-4a84-b4cd-bbd4cf7edffb",
   "metadata": {},
   "outputs": [],
   "source": []
  }
 ],
 "metadata": {
  "kernelspec": {
   "display_name": "Python 3 (ipykernel)",
   "language": "python",
   "name": "python3"
  },
  "language_info": {
   "codemirror_mode": {
    "name": "ipython",
    "version": 3
   },
   "file_extension": ".py",
   "mimetype": "text/x-python",
   "name": "python",
   "nbconvert_exporter": "python",
   "pygments_lexer": "ipython3",
   "version": "3.9.7"
  }
 },
 "nbformat": 4,
 "nbformat_minor": 5
}
